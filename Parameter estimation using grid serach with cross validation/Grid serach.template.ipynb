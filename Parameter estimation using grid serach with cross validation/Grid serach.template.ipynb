{
 "cells": [
  {
   "cell_type": "markdown",
   "metadata": {},
   "source": [
    "# Parameter estimation using grid search with cross validation"
   ]
  },
  {
   "cell_type": "markdown",
   "metadata": {},
   "source": [
    "Here we are using Digits dataset which is available sklearn library to understand about the paramater estimation using grid search with cross validation"
   ]
  },
  {
   "cell_type": "markdown",
   "metadata": {},
   "source": [
    "The more information about the dataset can be obtained from : 'https://scikit-learn.org/stable/auto_examples/datasets/plot_digits_last_image.html'\n",
    "\n",
    "\n",
    "Also here, we are limitng only to this operation where as some other operations also can be done with the dataset"
   ]
  },
  {
   "cell_type": "markdown",
   "metadata": {},
   "source": [
    "## Importing the Libraries"
   ]
  },
  {
   "cell_type": "code",
   "execution_count": null,
   "metadata": {},
   "outputs": [],
   "source": [
    "#Librry for importing the datasets of sklearn\n",
    "\n",
    "#Library for importing the train and test set data\n",
    "\n",
    "#library for importing Grid search\n",
    "\n",
    "#Libraries for getting classification report and accuracy score\n",
    "\n",
    "#Libraries for SVC\n"
   ]
  },
  {
   "cell_type": "markdown",
   "metadata": {},
   "source": [
    "## Creating Module for Ipython"
   ]
  },
  {
   "cell_type": "code",
   "execution_count": null,
   "metadata": {},
   "outputs": [],
   "source": [
    "#Print the code to create module\n"
   ]
  },
  {
   "cell_type": "markdown",
   "metadata": {},
   "source": [
    "## Load the dataset"
   ]
  },
  {
   "cell_type": "code",
   "execution_count": null,
   "metadata": {},
   "outputs": [],
   "source": [
    "# Loading the digits dataset that is available\n",
    "\n"
   ]
  },
  {
   "cell_type": "markdown",
   "metadata": {},
   "source": [
    "## Converting the data into matrix"
   ]
  },
  {
   "cell_type": "code",
   "execution_count": null,
   "metadata": {},
   "outputs": [],
   "source": [
    "'''To apply an classifier on this data, we need to flatten the image, to turn the data in a (samples, feature) matrix:'''\n",
    "\n",
    "# Store the length of the image into a variable named n_samples\n",
    "\n",
    "# Store the reshape of images with parameters as n_samples and -1 in X and target in y \n",
    "\n"
   ]
  },
  {
   "cell_type": "markdown",
   "metadata": {},
   "source": [
    "## Modelling"
   ]
  },
  {
   "cell_type": "code",
   "execution_count": null,
   "metadata": {},
   "outputs": [],
   "source": [
    "# Split the dataset in two equal parts\n",
    "\n"
   ]
  },
  {
   "cell_type": "markdown",
   "metadata": {},
   "source": [
    "### Grid Search"
   ]
  },
  {
   "cell_type": "code",
   "execution_count": null,
   "metadata": {},
   "outputs": [],
   "source": [
    "# For perfoming the grid search\n",
    "''' 1. Create a variable named tunned_paramters to set the parameters by cross validation\n",
    "    2. Create a variable scores which stres 'precision' and 'recall'\n",
    "    3. Using a for loop for score in scores\n",
    "          i) Create a model named clf for Grid search with SVC(), tuned_parameters, scoring='%s_macro' % score as parameters\n",
    "          ii) Fit the training data inot the model\n",
    "          iii) Print the best parameters\n",
    "          iv) Store mean and std of the model into means and stds variable\n",
    "          v) Using a nested for loop, print the mean, std*2 and params of the model\n",
    "          vi) Store the predicted value in y_pred and y_test value in y_true variables\n",
    "          vii) Print the classification report\n",
    "'''\n",
    "\n",
    "\n",
    "\n",
    "\n",
    "\n",
    "\n",
    "\n",
    "\n",
    "\n",
    "\n",
    "\n",
    "\n",
    "\n",
    "\n",
    "\n"
   ]
  },
  {
   "cell_type": "markdown",
   "metadata": {},
   "source": [
    "#### Write down your inference here\n",
    "\n",
    "\n",
    "\n"
   ]
  },
  {
   "cell_type": "markdown",
   "metadata": {},
   "source": [
    "\n",
    "\n",
    "\n",
    "\n"
   ]
  }
 ],
 "metadata": {
  "kernelspec": {
   "display_name": "Python 3",
   "language": "python",
   "name": "python3"
  },
  "language_info": {
   "codemirror_mode": {
    "name": "ipython",
    "version": 3
   },
   "file_extension": ".py",
   "mimetype": "text/x-python",
   "name": "python",
   "nbconvert_exporter": "python",
   "pygments_lexer": "ipython3",
   "version": "3.7.5"
  }
 },
 "nbformat": 4,
 "nbformat_minor": 2
}
