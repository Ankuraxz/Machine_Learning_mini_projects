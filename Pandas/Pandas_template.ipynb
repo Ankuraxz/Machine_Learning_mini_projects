{
 "cells": [
  {
   "cell_type": "raw",
   "metadata": {},
   "source": [
    "in this project, you will get to learn about pandas."
   ]
  },
  {
   "cell_type": "markdown",
   "metadata": {},
   "source": [
    "# Pandas"
   ]
  },
  {
   "cell_type": "markdown",
   "metadata": {},
   "source": [
    "As you know data processing is importnat to analyse the data. Pandas provide the usecase to proces the data and analyse it. it involves several tasks lke resturctuing, cleaning and merging of data. Pandas is useful for processing different types of data. and it is really fast to work with pandas. pandas provide data processing along with numpy for flexible data manipulation. also it provides the data processing."
   ]
  },
  {
   "cell_type": "markdown",
   "metadata": {},
   "source": [
    "Pandas provide two useful datastructures which are known as series and Dataframe."
   ]
  },
  {
   "cell_type": "markdown",
   "metadata": {},
   "source": [
    "# Series"
   ]
  },
  {
   "cell_type": "markdown",
   "metadata": {},
   "source": [
    "Series is the one dimensional array whichs tores the different kind of data and it includes the mix data types."
   ]
  },
  {
   "cell_type": "code",
   "execution_count": 61,
   "metadata": {},
   "outputs": [],
   "source": [
    "import pandas as pd\n",
    "#conversion of tuple to series.\n",
    "tuple=('BB',\"2020-04-14\",99,4)\n",
    "series=pd.Series(tuple)"
   ]
  },
  {
   "cell_type": "code",
   "execution_count": 62,
   "metadata": {},
   "outputs": [
    {
     "name": "stdout",
     "output_type": "stream",
     "text": [
      "0            BB\n",
      "1    2020-04-14\n",
      "2            99\n",
      "3             4\n",
      "dtype: object\n"
     ]
    }
   ],
   "source": [
    "type(series)\n",
    "print(series)"
   ]
  },
  {
   "cell_type": "code",
   "execution_count": 63,
   "metadata": {},
   "outputs": [
    {
     "name": "stdout",
     "output_type": "stream",
     "text": [
      "name    Decodr Technologies\n",
      "Date             2020-04-14\n",
      "dtype: object\n"
     ]
    }
   ],
   "source": [
    "#conversion of dictionary to series\n",
    "dictionary={'name':\"Decodr Technologies\",\"Date\":\"2020-04-14\"}\n",
    "dictionary=pd.Series(dictionary)\n",
    "print(dictionary)"
   ]
  },
  {
   "cell_type": "code",
   "execution_count": 64,
   "metadata": {},
   "outputs": [
    {
     "name": "stdout",
     "output_type": "stream",
     "text": [
      "0            BB\n",
      "1    2020-04-14\n",
      "2            99\n",
      "3             4\n",
      "dtype: object\n"
     ]
    }
   ],
   "source": [
    "#similary we can convert list to Series.\n",
    "list=('BB',\"2020-04-14\",\"99\",\"4\")\n",
    "list=pd.Series(list)\n",
    "type(list)\n",
    "print(list)\n",
    "\n"
   ]
  },
  {
   "cell_type": "markdown",
   "metadata": {},
   "source": [
    "# Data Frames"
   ]
  },
  {
   "cell_type": "markdown",
   "metadata": {},
   "source": [
    "Data frames are the widely used data structures. Series are generally used to work with the one dimensional array whereas dataframes work with the two dimensionaly arrays. Data frame consists of coloumn Index and row index."
   ]
  },
  {
   "cell_type": "code",
   "execution_count": 65,
   "metadata": {},
   "outputs": [],
   "source": [
    " data = {'name': ['Decodrs','IBM','GOOG'],'date': ['2020-12-01','2020-02-10','2020-04-09'],'amount': [100, 30, 90],'rate': [15.3, 11.3, 23.2]}"
   ]
  },
  {
   "cell_type": "code",
   "execution_count": 66,
   "metadata": {},
   "outputs": [
    {
     "name": "stdout",
     "output_type": "stream",
     "text": [
      "      name        date  amount  rate\n",
      "0  Decodrs  2020-12-01     100  15.3\n",
      "1      IBM  2020-02-10      30  11.3\n",
      "2     GOOG  2020-04-09      90  23.2\n"
     ]
    }
   ],
   "source": [
    "#df=pd.DataFrame(data)\n",
    "type(df)\n",
    "print(df)"
   ]
  },
  {
   "cell_type": "code",
   "execution_count": 95,
   "metadata": {},
   "outputs": [],
   "source": [
    "#how to add aditional coloumns\n",
    "#df['ceo']=\"Unknown\"\n",
    "#print(df)"
   ]
  },
  {
   "cell_type": "code",
   "execution_count": 96,
   "metadata": {},
   "outputs": [],
   "source": [
    "#df.index=[\"1\",\"2\",\"3\"]\n",
    "#print(df)"
   ]
  },
  {
   "cell_type": "code",
   "execution_count": 94,
   "metadata": {},
   "outputs": [],
   "source": [
    "#How to set any other coloumn as Index\n",
    "#df=df.set_index(['name'])\n",
    "#print(df)"
   ]
  },
  {
   "cell_type": "code",
   "execution_count": 97,
   "metadata": {},
   "outputs": [],
   "source": [
    "#how to access any data using coloumn index\n",
    "#df[\"rate\"]"
   ]
  },
  {
   "cell_type": "code",
   "execution_count": 90,
   "metadata": {},
   "outputs": [],
   "source": [
    "#how to access data with row index\n",
    "#df.ix[90]"
   ]
  },
  {
   "cell_type": "code",
   "execution_count": 89,
   "metadata": {},
   "outputs": [],
   "source": [
    "#how to acccess all rows\n",
    "#df.ix[:,'name']"
   ]
  },
  {
   "cell_type": "code",
   "execution_count": 88,
   "metadata": {},
   "outputs": [],
   "source": [
    "#How to delete a coloumn using del and drop\n",
    "#del df['ceo']"
   ]
  },
  {
   "cell_type": "code",
   "execution_count": 87,
   "metadata": {},
   "outputs": [],
   "source": [
    "#print(df)"
   ]
  },
  {
   "cell_type": "code",
   "execution_count": 86,
   "metadata": {},
   "outputs": [],
   "source": [
    "#df.drop(\"rate\",axis=1)"
   ]
  },
  {
   "cell_type": "code",
   "execution_count": 42,
   "metadata": {},
   "outputs": [
    {
     "data": {
      "text/plain": [
       "2947"
      ]
     },
     "execution_count": 42,
     "metadata": {},
     "output_type": "execute_result"
    }
   ],
   "source": [
    "#how to read files\n",
    "\n",
    "Files=pd.read_csv(\"./Desktop/test.csv\",index_col=None,encoding=\"utf-8\")\n",
    "Files.head()\n",
    "Files.tail()\n",
    "len(Files)"
   ]
  },
  {
   "cell_type": "code",
   "execution_count": 85,
   "metadata": {},
   "outputs": [],
   "source": [
    "#Files.head()"
   ]
  },
  {
   "cell_type": "code",
   "execution_count": 84,
   "metadata": {},
   "outputs": [],
   "source": [
    "#Files.tail()"
   ]
  },
  {
   "cell_type": "markdown",
   "metadata": {},
   "source": [
    "# Data operations on Files."
   ]
  },
  {
   "cell_type": "code",
   "execution_count": 83,
   "metadata": {},
   "outputs": [],
   "source": [
    "#Row and coloumn Selection\n",
    "#subject=Files['subject']"
   ]
  },
  {
   "cell_type": "code",
   "execution_count": 46,
   "metadata": {},
   "outputs": [
    {
     "name": "stdout",
     "output_type": "stream",
     "text": [
      "0        2\n",
      "1        2\n",
      "2        2\n",
      "3        2\n",
      "4        2\n",
      "        ..\n",
      "2942    24\n",
      "2943    24\n",
      "2944    24\n",
      "2945    24\n",
      "2946    24\n",
      "Name: subject, Length: 2947, dtype: int64\n"
     ]
    }
   ],
   "source": [
    "print(subject)"
   ]
  },
  {
   "cell_type": "code",
   "execution_count": 82,
   "metadata": {},
   "outputs": [],
   "source": [
    "#Null Values\n",
    "#Files['subject'].isnull().head()"
   ]
  },
  {
   "cell_type": "markdown",
   "metadata": {},
   "source": [
    "# Pandas Documentation"
   ]
  },
  {
   "cell_type": "markdown",
   "metadata": {},
   "source": [
    "This brief overview has touched on many of the important things that you need to know about numpy, but is far from complete. Check out the numpy reference to find out much more about pandas.\n",
    "https://pandas.pydata.org/docs/"
   ]
  },
  {
   "cell_type": "markdown",
   "metadata": {},
   "source": [
    "# Conclusion"
   ]
  },
  {
   "cell_type": "code",
   "execution_count": null,
   "metadata": {},
   "outputs": [],
   "source": [
    "#write your conclusion here"
   ]
  }
 ],
 "metadata": {
  "kernelspec": {
   "display_name": "Python 3",
   "language": "python",
   "name": "python3"
  },
  "language_info": {
   "codemirror_mode": {
    "name": "ipython",
    "version": 3
   },
   "file_extension": ".py",
   "mimetype": "text/x-python",
   "name": "python",
   "nbconvert_exporter": "python",
   "pygments_lexer": "ipython3",
   "version": "3.6.9"
  }
 },
 "nbformat": 4,
 "nbformat_minor": 4
}
