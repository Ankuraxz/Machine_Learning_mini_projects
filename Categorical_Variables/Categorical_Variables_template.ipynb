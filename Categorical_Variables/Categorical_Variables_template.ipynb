{
  "nbformat": 4,
  "nbformat_minor": 0,
  "metadata": {
    "colab": {
      "name": "Categorical_Variables_template.ipynb",
      "provenance": [],
      "collapsed_sections": []
    },
    "kernelspec": {
      "name": "python3",
      "display_name": "Python 3"
    }
  },
  "cells": [
    {
      "cell_type": "markdown",
      "metadata": {
        "id": "DPd5laxDr4AI",
        "colab_type": "text"
      },
      "source": [
        "# Dealing with Categorical Variables\n",
        "In this notebook you will learn about categorical variables and how to deal with them in machine learning environment."
      ]
    },
    {
      "cell_type": "code",
      "metadata": {
        "id": "QLY5SVt0pwFW",
        "colab_type": "code",
        "colab": {}
      },
      "source": [
        "# lets import required libraries\n",
        "import pandas as pd\n",
        "from sklearn.preprocessing import LabelEncoder,OneHotEncoder"
      ],
      "execution_count": 0,
      "outputs": []
    },
    {
      "cell_type": "markdown",
      "metadata": {
        "id": "3WiVKsTLrApE",
        "colab_type": "text"
      },
      "source": [
        "Lets create a dataset where we ask 10 students wheather they know machine learning or not. Four of them says 'Yes' and Six says 'No'."
      ]
    },
    {
      "cell_type": "code",
      "metadata": {
        "id": "vYVgv-TMp1MR",
        "colab_type": "code",
        "colab": {}
      },
      "source": [
        "#creating data\n",
        "data = {'ID':[1,2,3,4,5,6,7,8,9,10],'Answer':['No','No','Yes','No','Yes','Yes','No','Yes','No','No']}\n",
        "\n",
        "#converting them to dataframe\n",
        "df = pd.DataFrame(data)\n"
      ],
      "execution_count": 0,
      "outputs": []
    },
    {
      "cell_type": "code",
      "metadata": {
        "id": "3faKLZSqs25_",
        "colab_type": "code",
        "colab": {
          "base_uri": "https://localhost:8080/",
          "height": 363
        },
        "outputId": "80fe8c66-8e9d-4e1b-de79-2bbd695dda93"
      },
      "source": [
        "# lets view the data\n",
        "df"
      ],
      "execution_count": 18,
      "outputs": [
        {
          "output_type": "execute_result",
          "data": {
            "text/html": [
              "<div>\n",
              "<style scoped>\n",
              "    .dataframe tbody tr th:only-of-type {\n",
              "        vertical-align: middle;\n",
              "    }\n",
              "\n",
              "    .dataframe tbody tr th {\n",
              "        vertical-align: top;\n",
              "    }\n",
              "\n",
              "    .dataframe thead th {\n",
              "        text-align: right;\n",
              "    }\n",
              "</style>\n",
              "<table border=\"1\" class=\"dataframe\">\n",
              "  <thead>\n",
              "    <tr style=\"text-align: right;\">\n",
              "      <th></th>\n",
              "      <th>ID</th>\n",
              "      <th>Answer</th>\n",
              "    </tr>\n",
              "  </thead>\n",
              "  <tbody>\n",
              "    <tr>\n",
              "      <th>0</th>\n",
              "      <td>1</td>\n",
              "      <td>Yes</td>\n",
              "    </tr>\n",
              "    <tr>\n",
              "      <th>1</th>\n",
              "      <td>2</td>\n",
              "      <td>No</td>\n",
              "    </tr>\n",
              "    <tr>\n",
              "      <th>2</th>\n",
              "      <td>3</td>\n",
              "      <td>Yes</td>\n",
              "    </tr>\n",
              "    <tr>\n",
              "      <th>3</th>\n",
              "      <td>4</td>\n",
              "      <td>No</td>\n",
              "    </tr>\n",
              "    <tr>\n",
              "      <th>4</th>\n",
              "      <td>5</td>\n",
              "      <td>Yes</td>\n",
              "    </tr>\n",
              "    <tr>\n",
              "      <th>5</th>\n",
              "      <td>6</td>\n",
              "      <td>Yes</td>\n",
              "    </tr>\n",
              "    <tr>\n",
              "      <th>6</th>\n",
              "      <td>7</td>\n",
              "      <td>No</td>\n",
              "    </tr>\n",
              "    <tr>\n",
              "      <th>7</th>\n",
              "      <td>8</td>\n",
              "      <td>Yes</td>\n",
              "    </tr>\n",
              "    <tr>\n",
              "      <th>8</th>\n",
              "      <td>9</td>\n",
              "      <td>No</td>\n",
              "    </tr>\n",
              "    <tr>\n",
              "      <th>9</th>\n",
              "      <td>10</td>\n",
              "      <td>No</td>\n",
              "    </tr>\n",
              "  </tbody>\n",
              "</table>\n",
              "</div>"
            ],
            "text/plain": [
              "   ID Answer\n",
              "0   1    Yes\n",
              "1   2     No\n",
              "2   3    Yes\n",
              "3   4     No\n",
              "4   5    Yes\n",
              "5   6    Yes\n",
              "6   7     No\n",
              "7   8    Yes\n",
              "8   9     No\n",
              "9  10     No"
            ]
          },
          "metadata": {
            "tags": []
          },
          "execution_count": 18
        }
      ]
    },
    {
      "cell_type": "markdown",
      "metadata": {
        "id": "YbY-tyRytSEB",
        "colab_type": "text"
      },
      "source": [
        "As the 'Answer' attribute is a categorical variable you will get an error if you try to plug these variables into most machine learning models in Python without preprocessing them first. Lets see  three approaches that you can use to prepare your categorical data."
      ]
    },
    {
      "cell_type": "markdown",
      "metadata": {
        "id": "x35AtBTUtug0",
        "colab_type": "text"
      },
      "source": [
        "## 1. Drop Categorical Variables\n",
        "The easy way to deal with categorical variables is to simply remove them from the dataset.It will only work  if the columns did not contain useful information."
      ]
    },
    {
      "cell_type": "code",
      "metadata": {
        "id": "Myk6CPOxwaqz",
        "colab_type": "code",
        "colab": {}
      },
      "source": [
        "# Get list of categorical variables\n",
        "\n",
        "\n",
        "# print the number of categorical variables\n",
        "\n"
      ],
      "execution_count": 0,
      "outputs": []
    },
    {
      "cell_type": "code",
      "metadata": {
        "id": "Q3ZvnX8is3t9",
        "colab_type": "code",
        "colab": {}
      },
      "source": [
        "# Drop the variable containing categorical value\n"
      ],
      "execution_count": 0,
      "outputs": []
    },
    {
      "cell_type": "markdown",
      "metadata": {
        "id": "Um_sWcHSvsqR",
        "colab_type": "text"
      },
      "source": [
        "## 2. Label Encoding\n",
        "Label encoding assigns each unique value to a different integer.    \n",
        "Yes -> 1                 \n",
        "No  -> 0\n"
      ]
    },
    {
      "cell_type": "code",
      "metadata": {
        "id": "AfXcHq2ZyAfW",
        "colab_type": "code",
        "colab": {}
      },
      "source": [
        "# create a instance of LabelEncoder\n",
        "Label_Encoder = LabelEncoder()\n",
        "\n",
        "# fit the total categories and transform the 'Answer' column\n"
      ],
      "execution_count": 0,
      "outputs": []
    },
    {
      "cell_type": "markdown",
      "metadata": {
        "id": "uuCRcRgf0Rft",
        "colab_type": "text"
      },
      "source": [
        "## 3. One Hot Encoding\n",
        "We can use the get_dummies method from pandas and then merge them into original dataset.We can also use the OneHotEncoder class from scikit-learn to get one-hot encodings."
      ]
    },
    {
      "cell_type": "markdown",
      "metadata": {
        "id": "qvz9Xwx-6rEM",
        "colab_type": "text"
      },
      "source": [
        "We will try using pandas here.You can use OneHotEncoder from sklearn."
      ]
    },
    {
      "cell_type": "code",
      "metadata": {
        "id": "wzTUiOM20NgU",
        "colab_type": "code",
        "colab": {}
      },
      "source": [
        "# using pandas to get dummies \n"
      ],
      "execution_count": 0,
      "outputs": []
    },
    {
      "cell_type": "code",
      "metadata": {
        "id": "qjFQ_nMo3WMD",
        "colab_type": "code",
        "colab": {}
      },
      "source": [
        "# lets check the dummies\n",
        "\n"
      ],
      "execution_count": 0,
      "outputs": []
    },
    {
      "cell_type": "code",
      "metadata": {
        "id": "gm0VYG-n4YLN",
        "colab_type": "code",
        "colab": {}
      },
      "source": [
        "# lets merge them into original dataset and drom column Answer\n",
        "\n",
        "\n",
        "# concat them\n"
      ],
      "execution_count": 0,
      "outputs": []
    },
    {
      "cell_type": "code",
      "metadata": {
        "id": "VAgktpmo5fN9",
        "colab_type": "code",
        "colab": {}
      },
      "source": [
        "# print the final dataset\n"
      ],
      "execution_count": 0,
      "outputs": []
    }
  ]
}